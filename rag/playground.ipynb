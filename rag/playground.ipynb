{
 "cells": [
  {
   "cell_type": "markdown",
   "id": "7d393ee6",
   "metadata": {},
   "source": [
    "# RAG IMPLEMENTATION"
   ]
  },
  {
   "cell_type": "code",
   "execution_count": 1,
   "id": "8d3849ae",
   "metadata": {},
   "outputs": [],
   "source": [
    "import openai\n",
    "\n",
    "# pdf loading\n",
    "from langchain.document_loaders import PyPDFLoader\n",
    "\n",
    "# YT audio loading\n",
    "from langchain.document_loaders.generic import GenericLoader\n",
    "from langchain.document_loaders.blob_loaders.youtube_audio import YoutubeAudioLoader\n",
    "\n",
    "# langchain-community module(s)\n",
    "from langchain_community.document_loaders.parsers.audio import FasterWhisperParser\n",
    "\n",
    "import os\n",
    "from pprint import pprint\n",
    "from dotenv import load_dotenv, find_dotenv\n",
    "\n",
    "_ = load_dotenv(find_dotenv())\n",
    "\n",
    "openai.api_key = os.environ['OPENAI_API_KEY']  "
   ]
  },
  {
   "cell_type": "markdown",
   "id": "04c742b2",
   "metadata": {},
   "source": [
    "### Document Loading"
   ]
  },
  {
   "cell_type": "code",
   "execution_count": 2,
   "id": "3af38afc",
   "metadata": {},
   "outputs": [],
   "source": [
    "# pdf loading\n",
    "\n",
    "pdf_loader = PyPDFLoader(\"./pdfs/MachineLearning-Lecture01.pdf\")\n",
    "pages = pdf_loader.load()"
   ]
  },
  {
   "cell_type": "code",
   "execution_count": 3,
   "id": "cc74e810",
   "metadata": {},
   "outputs": [
    {
     "name": "stdout",
     "output_type": "stream",
     "text": [
      "('MachineLearning-Lecture01  \\n'\n",
      " 'Instructor (Andrew Ng): Okay. Good morning. Welcome to CS229, the machine \\n'\n",
      " 'learning class. So what I wanna do today is just spend a little time going '\n",
      " 'over the logistics \\n'\n",
      " \"of the class, and then we'll start to talk a bit about machine learning.  \\n\"\n",
      " \"By way of introduction, my name's Andrew Ng and I'll be instructor for this \"\n",
      " 'class. And so \\n'\n",
      " \"I personally work in machine learning, and I've worked on it for about 15 \"\n",
      " 'years now, and \\n'\n",
      " 'I actually think that machine learning is the ')\n"
     ]
    }
   ],
   "source": [
    "page = pages[0]\n",
    "pprint(page.page_content[:500])"
   ]
  },
  {
   "cell_type": "code",
   "execution_count": 4,
   "id": "246e0ef0",
   "metadata": {},
   "outputs": [
    {
     "name": "stdout",
     "output_type": "stream",
     "text": [
      "{'author': '',\n",
      " 'creationdate': '2008-07-11T11:25:23-07:00',\n",
      " 'creator': 'PScript5.dll Version 5.2.2',\n",
      " 'moddate': '2008-07-11T11:25:23-07:00',\n",
      " 'page': 0,\n",
      " 'page_label': '1',\n",
      " 'producer': 'Acrobat Distiller 8.1.0 (Windows)',\n",
      " 'source': './pdfs/MachineLearning-Lecture01.pdf',\n",
      " 'title': '',\n",
      " 'total_pages': 22}\n"
     ]
    }
   ],
   "source": [
    "pprint(page.metadata)"
   ]
  },
  {
   "cell_type": "code",
   "execution_count": 5,
   "id": "1df399eb",
   "metadata": {},
   "outputs": [
    {
     "name": "stdout",
     "output_type": "stream",
     "text": [
      "[youtube] Extracting URL: https://www.youtube.com/watch?v=I2ZK3ngNvvI\n",
      "[youtube] I2ZK3ngNvvI: Downloading webpage\n",
      "[youtube] I2ZK3ngNvvI: Downloading tv client config\n",
      "[youtube] I2ZK3ngNvvI: Downloading tv player API JSON\n",
      "[youtube] I2ZK3ngNvvI: Downloading ios player API JSON\n",
      "[youtube] I2ZK3ngNvvI: Downloading m3u8 information\n",
      "[info] I2ZK3ngNvvI: Downloading 1 format(s): 140\n",
      "[download] Destination: ./audios/Advice for machine learning beginners ｜ Andrej Karpathy and Lex Fridman.m4a\n",
      "[download] 100% of    5.36MiB in 00:00:02 at 2.14MiB/s   \n",
      "[FixupM4a] Correcting container of \"./audios/Advice for machine learning beginners ｜ Andrej Karpathy and Lex Fridman.m4a\"\n",
      "[ExtractAudio] Not converting audio ./audios/Advice for machine learning beginners ｜ Andrej Karpathy and Lex Fridman.m4a; file is already in target format m4a\n"
     ]
    },
    {
     "name": "stderr",
     "output_type": "stream",
     "text": [
      "[2025-05-14 22:45:32.751] [ctranslate2] [thread 41436] [warning] The compute type inferred from the saved model is float16, but the target device or backend do not support efficient float16 computation. The model weights have been automatically converted to use the float32 compute type instead.\n",
      "[2025-05-14 22:46:13.574] [ctranslate2] [thread 41436] [warning] The compute type inferred from the saved model is float16, but the target device or backend do not support efficient float16 computation. The model weights have been automatically converted to use the float32 compute type instead.\n"
     ]
    }
   ],
   "source": [
    "# YT audio loading\n",
    "\n",
    "url = 'https://www.youtube.com/watch?v=I2ZK3ngNvvI'    # Hardik Pandya\n",
    "save_dir = './audios'\n",
    "yt_loader = GenericLoader(\n",
    "    YoutubeAudioLoader([url], save_dir),\n",
    "    FasterWhisperParser(model_size='tiny', device='cpu')\n",
    ")\n",
    "docs = yt_loader.load()"
   ]
  },
  {
   "cell_type": "code",
   "execution_count": 9,
   "id": "c57dc046",
   "metadata": {},
   "outputs": [
    {
     "name": "stdout",
     "output_type": "stream",
     "text": [
      "(\"You're one of the greatest teachers of machine learning AI ever from CS231N \"\n",
      " 'to today. What advice would you give to beginners interested in getting into '\n",
      " 'machine learning? Beginners are often focused on like what to do and I think '\n",
      " 'the focus should be more like how much you do. So I am kind of like believer '\n",
      " 'on the high level in this 10,000 hours kind of concept where you just kind '\n",
      " 'of have to just pick the things where you can spend time and you care about '\n",
      " \"and you're interested in. You literally have to put in 10,000 hours of work. \"\n",
      " \"It doesn't even like matter as much like where you put it and you'll iterate \"\n",
      " \"and you'll improve and you'll waste some time. I don't know if there's a \"\n",
      " \"better way. You need to put in 10,000 hours. But I think it's actually \"\n",
      " \"really nice because I feel like there's some sense of determinism about \"\n",
      " 'being an expert at a thing if you spend 10,000 hours. You can literally pick '\n",
      " 'an arbitrary thing and I think if you spend 10,000 hours of deliberate '\n",
      " 'effort and work, you act')\n"
     ]
    }
   ],
   "source": [
    "final_dialouge = \"\"\n",
    "for doc in docs:    \n",
    "    page_content = doc.page_content.strip()\n",
    "    final_dialouge += page_content + ' '\n",
    "\n",
    "\n",
    "pprint(final_dialouge[:1000])"
   ]
  },
  {
   "cell_type": "code",
   "execution_count": null,
   "id": "bbe6a0e7",
   "metadata": {},
   "outputs": [],
   "source": []
  }
 ],
 "metadata": {
  "kernelspec": {
   "display_name": "rag",
   "language": "python",
   "name": "python3"
  },
  "language_info": {
   "codemirror_mode": {
    "name": "ipython",
    "version": 3
   },
   "file_extension": ".py",
   "mimetype": "text/x-python",
   "name": "python",
   "nbconvert_exporter": "python",
   "pygments_lexer": "ipython3",
   "version": "3.12.9"
  }
 },
 "nbformat": 4,
 "nbformat_minor": 5
}
